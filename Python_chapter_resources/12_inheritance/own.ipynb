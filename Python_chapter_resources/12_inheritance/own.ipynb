{
 "cells": [
  {
   "cell_type": "code",
   "execution_count": 2,
   "id": "aececb72-b0bb-4920-bde5-c4491e4408db",
   "metadata": {},
   "outputs": [
    {
     "name": "stdout",
     "output_type": "stream",
     "text": [
      "100\n"
     ]
    }
   ],
   "source": [
    "class student:\n",
    "    def __init__(self, name, age):\n",
    "        self.name=name\n",
    "        self.age=age\n",
    "    def intro(self):\n",
    "        print(self.name)\n",
    "    def check_age(self):\n",
    "        if self.age>18:\n",
    "            print(\"valid\")\n",
    "        else:\n",
    "            print(\"no\")\n",
    "\n",
    "class physics(student):\n",
    "    def __init__(self,name,age,marks):\n",
    "        super().__init__(name,age)\n",
    "        self.marks= marks\n",
    "    def smarks(self):\n",
    "        print(self.marks)\n",
    "    \n",
    "        \n",
    "        \n",
    "\n",
    "\n",
    "risab = physics('risab',18,100)\n",
    "risab.smarks()\n"
   ]
  },
  {
   "cell_type": "code",
   "execution_count": null,
   "id": "bc1b934e-4959-4300-8aea-9c19e4cce2b9",
   "metadata": {},
   "outputs": [],
   "source": []
  }
 ],
 "metadata": {
  "kernelspec": {
   "display_name": "Python 3 (ipykernel)",
   "language": "python",
   "name": "python3"
  },
  "language_info": {
   "codemirror_mode": {
    "name": "ipython",
    "version": 3
   },
   "file_extension": ".py",
   "mimetype": "text/x-python",
   "name": "python",
   "nbconvert_exporter": "python",
   "pygments_lexer": "ipython3",
   "version": "3.11.7"
  }
 },
 "nbformat": 4,
 "nbformat_minor": 5
}
